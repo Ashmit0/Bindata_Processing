{
 "cells": [
  {
   "cell_type": "markdown",
   "metadata": {},
   "source": [
    "## Import Libraries "
   ]
  },
  {
   "cell_type": "code",
   "execution_count": null,
   "metadata": {},
   "outputs": [],
   "source": [
    "import os \n",
    "import yaml \n",
    "import random \n",
    "import pickle\n",
    "import numpy as np \n",
    "import pandas as pd \n",
    "import matplotlib.pyplot as plt \n",
    "\n",
    "random.seed( 17 )"
   ]
  },
  {
   "cell_type": "code",
   "execution_count": null,
   "metadata": {},
   "outputs": [],
   "source": [
    "plt.rcParams['font.size'] = 14 \n",
    "plt.rcParams['figure.figsize'] = (15,5)\n",
    "plt.rcParams['lines.linewidth'] = 2"
   ]
  },
  {
   "cell_type": "code",
   "execution_count": null,
   "metadata": {},
   "outputs": [],
   "source": [
    "# parent dir \n",
    "parent_dir = '/data/NSE/bindata_indices/'\n",
    "date_name = [ name for name in os.listdir(parent_dir) if os.path.isdir(os.path.join(parent_dir, name)) and name.startswith('20')]\n",
    "dates = pd.to_datetime( date_name , format='%Y%m%d')\n",
    "dates = dates.strftime('%d-%m-%Y')\n",
    "print( f'Number of Dates: {len(date_name)}')"
   ]
  },
  {
   "cell_type": "code",
   "execution_count": null,
   "metadata": {},
   "outputs": [],
   "source": [
    "date_format = '%Y%m%d'\n",
    "date_time_format = '%d-%m-%Y %H:%M:%S'"
   ]
  },
  {
   "cell_type": "markdown",
   "metadata": {},
   "source": [
    "## Example workflow for one date "
   ]
  },
  {
   "cell_type": "code",
   "execution_count": null,
   "metadata": {},
   "outputs": [],
   "source": [
    "with open('user_input.yaml', 'r') as f:\n",
    "    input = yaml.safe_load(f)"
   ]
  },
  {
   "cell_type": "code",
   "execution_count": null,
   "metadata": {},
   "outputs": [],
   "source": [
    "def drop_weekends(date_range: pd.DatetimeIndex) -> pd.DatetimeIndex:\n",
    "    \"\"\"Remove weekends (Saturday and Sunday) from a pandas date range.\"\"\"\n",
    "    return date_range[~date_range.weekday.isin([5, 6])]"
   ]
  },
  {
   "cell_type": "code",
   "execution_count": null,
   "metadata": {},
   "outputs": [],
   "source": [
    "# user input : date range \n",
    "\n",
    "dates = pd.date_range( start= input['start_date'] , end = input['end_date'] , freq = 'D' )\n",
    "dates = drop_weekends( dates )\n",
    "dates = dates.strftime( date_format= date_format).to_list()\n",
    "\n",
    "dates "
   ]
  },
  {
   "cell_type": "code",
   "execution_count": null,
   "metadata": {},
   "outputs": [],
   "source": [
    "def format_dates(date_list):\n",
    "    parsed_dates = pd.to_datetime(date_list, format='%Y%m%d')\n",
    "    return parsed_dates.strftime('%d-%m-%Y').tolist()"
   ]
  },
  {
   "cell_type": "code",
   "execution_count": null,
   "metadata": {},
   "outputs": [],
   "source": [
    "dates_formated = format_dates( dates )\n",
    "dates_formated"
   ]
  },
  {
   "cell_type": "code",
   "execution_count": null,
   "metadata": {},
   "outputs": [],
   "source": [
    "def get_log_file_path( date_name : str , parent_dir : str =  '/data/NSE/bindata_indices/' ) : \n",
    "    dir = os.path.join( parent_dir , date_name , 'bin_data_archival_' + date_name + '.log')\n",
    "    return dir "
   ]
  },
  {
   "cell_type": "code",
   "execution_count": null,
   "metadata": {},
   "outputs": [],
   "source": [
    "dates_log_path = [ get_log_file_path( date ) for date in dates ]\n",
    "dates_log_path"
   ]
  },
  {
   "cell_type": "code",
   "execution_count": null,
   "metadata": {},
   "outputs": [],
   "source": [
    "for path , date in zip( dates_log_path , dates_formated ) : \n",
    "    small_chunk_data = pd.read_csv( path  ,  nrows  = 20 , usecols= [0,1,2,4,8,12] )\n",
    "    print(f'Log file for {date}')\n",
    "    print( small_chunk_data )\n",
    "    print('-'*10)"
   ]
  },
  {
   "cell_type": "code",
   "execution_count": null,
   "metadata": {},
   "outputs": [],
   "source": [
    "import datetime \n",
    "import calendar \n",
    "import holidays "
   ]
  },
  {
   "cell_type": "code",
   "execution_count": null,
   "metadata": {},
   "outputs": [],
   "source": [
    "month_to_nse_code = {\n",
    "    1: 'F',   # January\n",
    "    2: 'G',   # February\n",
    "    3: 'H',   # March\n",
    "    4: 'J',   # April\n",
    "    5: 'K',   # May\n",
    "    6: 'M',   # June\n",
    "    7: 'N',   # July\n",
    "    8: 'Q',   # August\n",
    "    9: 'U',   # September\n",
    "    10: 'V',  # October\n",
    "    11: 'X',  # November\n",
    "    12: 'Z'   # December\n",
    "}"
   ]
  },
  {
   "cell_type": "code",
   "execution_count": null,
   "metadata": {},
   "outputs": [],
   "source": [
    "def last_thursday(year, month):\n",
    "    # Find the last day of the month\n",
    "    last_day = calendar.monthrange(year, month)[1]\n",
    "    # Create a date object for the last day of the month\n",
    "    last_date = datetime.date(year, month, last_day)\n",
    "    # Calculate the offset to the last Thursday (weekday 3)\n",
    "    offset = (last_date.weekday() - 3) % 7\n",
    "    # Subtract the offset to get the last Thursday\n",
    "    last_thursday_date = last_date - datetime.timedelta(days=offset)\n",
    "    return last_thursday_date"
   ]
  },
  {
   "cell_type": "code",
   "execution_count": null,
   "metadata": {},
   "outputs": [],
   "source": [
    "def get_date_code( date : str ) : \n",
    "    date = pd.to_datetime( date , format = '%Y%m%d')\n",
    "    \n",
    "    yy = date.strftime('%y')  # Last two digits of the year\n",
    "    mm = date.strftime('%m')  # Two-digit month\n",
    "\n",
    "    mm = int( mm )\n",
    "\n",
    "    code = month_to_nse_code[mm] + str(yy)\n",
    "\n",
    "    return code "
   ]
  },
  {
   "cell_type": "markdown",
   "metadata": {},
   "source": [
    "### User Inputs : "
   ]
  },
  {
   "cell_type": "code",
   "execution_count": null,
   "metadata": {},
   "outputs": [],
   "source": [
    "last_thursday( 2025 , 3 )"
   ]
  },
  {
   "cell_type": "code",
   "execution_count": null,
   "metadata": {},
   "outputs": [],
   "source": [
    "get_date_code( input['exp'] )"
   ]
  },
  {
   "cell_type": "code",
   "execution_count": null,
   "metadata": {},
   "outputs": [],
   "source": [
    "time_indexs = [ pd.date_range(start= date + ' ' + \"09:15:01\", end=date + ' ' + \"15:30:00\", freq='s') for date in dates ]\n",
    "time_indexs"
   ]
  },
  {
   "cell_type": "code",
   "execution_count": null,
   "metadata": {},
   "outputs": [],
   "source": [
    "def groupby_to_nested_dict(df, group_cols):\n",
    "    if not group_cols:\n",
    "        return df.reset_index(drop=True)\n",
    "    col = group_cols[0]\n",
    "    return {\n",
    "        key: groupby_to_nested_dict(sub_df, group_cols[1:])\n",
    "        for key, sub_df in df.groupby(col)\n",
    "    }"
   ]
  },
  {
   "cell_type": "code",
   "execution_count": null,
   "metadata": {},
   "outputs": [],
   "source": [
    "def process_spot_data(spot_rows:list,date:str,time_index): \n",
    "    result_df = pd.concat(spot_rows, ignore_index=True )\n",
    "    if result_df.empty : \n",
    "        raise ValueError(f'No Underlying found on {date}')\n",
    "    result_df['Time'] = pd.to_datetime(date + ' ' + result_df['Time'] , format = '%d-%m-%Y %H:%M:%S')\n",
    "\n",
    "    result_df['Close'] = result_df['Close']/100\n",
    "    result_df = result_df.set_index('Time').reindex( time_index )\n",
    "    result_df['Close'] = result_df['Close'].ffill().bfill()\n",
    "\n",
    "    result_df['Spot Return %'] = result_df['Close'].pct_change()*100\n",
    "\n",
    "    return result_df "
   ]
  },
  {
   "cell_type": "code",
   "execution_count": null,
   "metadata": {},
   "outputs": [],
   "source": [
    "def process_strike_dict(strike_dict:dict,date:str,time_index,nresult_df) : \n",
    "    rm_strikes = []\n",
    "    for strike in strike_dict.keys() :\n",
    "        df = pd.DataFrame()\n",
    "        try : \n",
    "            df = strike_dict[strike]['PE'].copy()\n",
    "            df = df[[ 'Time' , 'Close']]\n",
    "            df = df.rename(columns={'Close': 'PE_Close'})\n",
    "            df['Time'] = pd.to_datetime(date + ' ' + df['Time'] , format = '%d-%m-%Y %H:%M:%S')\n",
    "            df = df.set_index('Time').reindex( time_index )\n",
    "            try : \n",
    "                df2 = strike_dict[strike]['CE'].copy()\n",
    "                df2 = df2[['Time' , 'Close']]\n",
    "                df2 = df2.rename(columns={'Close': 'CE_Close'})\n",
    "                df2['Time'] = pd.to_datetime(date + ' ' + df2['Time'] , format = '%d-%m-%Y %H:%M:%S')\n",
    "                df2 = df2.set_index('Time').reindex( time_index )\n",
    "                df['CE_Close'] = df2['CE_Close']\n",
    "\n",
    "                cols_to_fill = ['CE_Close', 'PE_Close']\n",
    "                df[cols_to_fill] = df[cols_to_fill].ffill().bfill()\n",
    "\n",
    "                df['Orb2'] = df['CE_Close'] - df['PE_Close'] - nresult_df['Close'] + strike\n",
    "                df['Orb2_diff'] = df['Orb2'].diff()\n",
    "\n",
    "            except : \n",
    "                print(f'No Conjugate Call Option is Present for {strike} Put Option on {date} \\n This strike price will be droped .... ') \n",
    "                rm_strikes.append( strike )\n",
    "        except : \n",
    "            print(f'No Conjugate Put Option is Present for {strike} Call Option on {date} \\n This strike price will be droped .... ') \n",
    "            rm_strikes.append( strike )\n",
    "\n",
    "        strike_dict[strike] = df \n",
    "    return rm_strikes "
   ]
  },
  {
   "cell_type": "code",
   "execution_count": null,
   "metadata": {},
   "outputs": [],
   "source": [
    "def process_options_data( strike_rows:list, date:str, time_index , nresult_df ): \n",
    "    strike_df = pd.concat(strike_rows, ignore_index=True )\n",
    "    strike_df['Close'] = strike_df['Close']/100\n",
    "\n",
    "    if strike_df.empty : \n",
    "        raise ValueError(f'!!!!!Strike Bounds are Out of Range for {date}!!!')\n",
    "        \n",
    "\n",
    "    strike_dict = groupby_to_nested_dict( strike_df , ['Strike'  , 'Type' ] )\n",
    "    rm_strikes = process_strike_dict( strike_dict , date , time_index , nresult_df )\n",
    "\n",
    "    for key in rm_strikes : \n",
    "        strike_dict.pop( key , None )\n",
    "\n",
    "    return strike_dict "
   ]
  },
  {
   "cell_type": "code",
   "execution_count": null,
   "metadata": {},
   "outputs": [],
   "source": [
    "def get_pickel_name( input ) : \n",
    "    return '_'.join([ str(v) for v in list(input.values())[:-1]]) + '.pkl' "
   ]
  },
  {
   "cell_type": "code",
   "execution_count": null,
   "metadata": {},
   "outputs": [],
   "source": [
    "def create_main_dict( dates_formated , dates_log_path , time_indexs ) : \n",
    "    main_dict = {}\n",
    "    for date , path , time_index in zip( dates_formated , dates_log_path , time_indexs): \n",
    "        symbol = input['underlying'] + '_' + get_date_code( input['exp'] )\n",
    "\n",
    "        main_dict[date] = {}\n",
    "\n",
    "        chunk_size = 100000 # Tune as needed\n",
    "        spot_rows = []\n",
    "        strike_rows = []\n",
    "\n",
    "        for chunk in pd.read_csv(path, chunksize=chunk_size , usecols= [1,2,8]):\n",
    "            # Filter rows where Symbol exactly matches 'NSEFNO_BANKNIFTY_F25'\n",
    "            matched = chunk[chunk['Symbol'] == symbol]\n",
    "            spot_rows.append(matched)\n",
    "            # save to dict \n",
    "            main_dict[date]['Spot'] = process_spot_data( spot_rows , date , time_index )\n",
    "\n",
    "            # For strike rows : \n",
    "            matched = chunk[\n",
    "                chunk['Symbol'].str.startswith(symbol) & \n",
    "                (chunk['Symbol'] != symbol ) \n",
    "            ].copy()\n",
    "            split_cols = matched['Symbol'].str.split('_', expand=True)\n",
    "\n",
    "            matched.loc[:, 'Strike'] = split_cols[3].astype(float)\n",
    "            matched.loc[:, 'Type'] = split_cols[5]\n",
    "\n",
    "            # get the strike range : \n",
    "            # spot at 09:15:05 \n",
    "            spot = main_dict[date]['Spot']['Close'].iloc[4]\n",
    "            min_strike = spot - input['strike_range']/2 \n",
    "            max_strike = spot + input['strike_range']/2\n",
    "\n",
    "            matched['Strike'] = matched['Strike'].astype(float)\n",
    "            \n",
    "            matched = matched[\n",
    "                (matched['Strike'] >= min_strike ) & \n",
    "                (matched['Strike'] <= max_strike )\n",
    "            ]\n",
    "            strike_rows.append(matched)\n",
    "\n",
    "        # save to dict \n",
    "        main_dict[date]['Strike'] = process_options_data(strike_rows , date , time_index , main_dict[date]['Spot'])\n",
    "    return main_dict "
   ]
  },
  {
   "cell_type": "code",
   "execution_count": null,
   "metadata": {},
   "outputs": [],
   "source": [
    "pkl_name = get_pickel_name( input )\n",
    "pkl_name "
   ]
  },
  {
   "cell_type": "code",
   "execution_count": null,
   "metadata": {},
   "outputs": [],
   "source": [
    "try : \n",
    "    with open(pkl_name , 'rb' ) as f : \n",
    "        main_dict = pickle.load(f)\n",
    "except : \n",
    "    main_dict = create_main_dict( dates_formated , dates_log_path , time_indexs )\n",
    "    with open(pkl_name , 'wb' ) as f : \n",
    "        pickle.dump( main_dict , f )"
   ]
  },
  {
   "cell_type": "code",
   "execution_count": null,
   "metadata": {},
   "outputs": [],
   "source": [
    "for date in main_dict.keys() : \n",
    "    print(F'--------FOR {date}-----------')\n",
    "    print('SPOT DATA : ')\n",
    "    print( main_dict[date]['Spot'].head() )\n",
    "    print('STRIKE DATA:  ')\n",
    "    for strike , df in main_dict[date]['Strike'].items() : \n",
    "        print(f'\\t\\t STRIKE = {strike}')\n",
    "        print(df.head() ) "
   ]
  },
  {
   "cell_type": "code",
   "execution_count": null,
   "metadata": {},
   "outputs": [],
   "source": [
    "for date in main_dict.keys() : \n",
    "    main_dict[date]['Stamp'] = (\n",
    "        pd.to_datetime(date + ' ' + '09:15:00', format = '%d-%m-%Y %H:%M:%S') , \n",
    "        pd.to_datetime(date + ' ' + '15:30:00' , format = '%d-%m-%Y %H:%M:%S')\n",
    "    )"
   ]
  },
  {
   "cell_type": "code",
   "execution_count": null,
   "metadata": {},
   "outputs": [],
   "source": [
    "\n",
    "def plot_time_series( df , col  , strike , start_end_stamp , date ,  x : bool = True , save_dir = None  ): \n",
    "    start_time , end_time = start_end_stamp\n",
    "    plt.figure()\n",
    "    if x : \n",
    "        plt.plot( df.index[1:] , df[col][1:]  , 'o-' , color = 'r' , markersize=0.1)\n",
    "    else : \n",
    "        plt.plot( df.index , df[col]  , 'o-' , color = 'r' , markersize=0.1)\n",
    "    plt.xlim( start_time , end_time )\n",
    "    plt.tight_layout()\n",
    "    plt.xticks(\n",
    "        ticks = pd.date_range(start=start_time, end=end_time, freq='1h') , \n",
    "        labels = pd.date_range( start = start_time  , end = end_time, freq = '1h' ).time\n",
    "    )\n",
    "    plt.grid()\n",
    "    plt.title( f\"{col} for {input['underlying']}; exp: {input['exp']}; strike: {strike}; date : {date} {pd.to_datetime( date , dayfirst=True).day_name()}\")\n",
    "    if save_dir != None : \n",
    "        plt.savefig( save_dir )\n",
    "    plt.show()"
   ]
  },
  {
   "cell_type": "code",
   "execution_count": null,
   "metadata": {},
   "outputs": [],
   "source": [
    "# for date  in main_dict.keys()  : \n",
    "#     for strike , df in main_dict[date]['Strike'].items(): \n",
    "#         plot_time_series(  df  ,'Orb2' , strike , main_dict[date]['Stamp'] , date ,x = False , save_dir = f'Date-Range-Plots/Orb/Orb_strike_{strike}.png')"
   ]
  },
  {
   "cell_type": "code",
   "execution_count": null,
   "metadata": {},
   "outputs": [],
   "source": [
    "# for date  in main_dict.keys()  : \n",
    "#     for strike , df in main_dict[date]['Strike'].items(): \n",
    "#         plot_time_series(  df  ,'Orb2_diff' , strike , main_dict[date]['Stamp'] , date , save_dir = f'Date-Range-Plots/Orb_diff/Orb_diff_strike_{strike}.png')"
   ]
  },
  {
   "cell_type": "code",
   "execution_count": null,
   "metadata": {},
   "outputs": [],
   "source": [
    "# for date  in main_dict.keys()  : \n",
    "#         plot_time_series(  main_dict[date]['Spot']  ,'Spot Return %' , '-' , main_dict[date]['Stamp'] , date  , save_dir = f'Date-Range-Plots/Spot-Return/spot_return_{date}.png')"
   ]
  },
  {
   "cell_type": "code",
   "execution_count": null,
   "metadata": {},
   "outputs": [],
   "source": [
    "filtered_time_indexs = [ pd.date_range(start= date + ' ' + \"09:15:01\", end=date + ' ' + \"15:30:00\", freq=f\"{input['dt']}T\") for date in dates ]\n",
    "filtered_time_indexs"
   ]
  },
  {
   "cell_type": "code",
   "execution_count": null,
   "metadata": {},
   "outputs": [],
   "source": [
    "date = dates_formated[0]\n",
    "strikes = [48300.0 , 50000.0 ]\n",
    "\n",
    "for strike in strikes : \n",
    "    main_dict[date]['Strike'][strike] = main_dict[date]['Strike'][strike].reindex(filtered_time_indexs[0])\n",
    "main_dict[date]['Spot'] = main_dict[date]['Spot'].reindex(filtered_time_indexs[0])"
   ]
  },
  {
   "cell_type": "code",
   "execution_count": null,
   "metadata": {},
   "outputs": [],
   "source": [
    "for strike in strikes : \n",
    "    x = main_dict[date]['Strike'][strike]['Orb2'] + 1000 \n",
    "    x = x.replace( 0 , np.nan )\n",
    "    x = x.ffill().bfill()\n",
    "    print( ( x <= 0 ).sum())\n",
    "    main_dict[date]['Strike'][strike]['orb_log_return'] = np.log( x /x.shift(1) )\n",
    "main_dict[date]['Spot']['log_return'] =  np.log(main_dict[date]['Spot']['Close'] / main_dict[date]['Spot']['Close'].shift(1))"
   ]
  },
  {
   "cell_type": "code",
   "execution_count": null,
   "metadata": {},
   "outputs": [],
   "source": [
    "plt.rcParams['lines.linewidth'] = 2"
   ]
  },
  {
   "cell_type": "code",
   "execution_count": null,
   "metadata": {},
   "outputs": [],
   "source": [
    "date = dates_formated[0]\n",
    "\n",
    "x = main_dict[date]['Spot']['log_return']\n",
    "y = main_dict[date]['Strike'][48300.0]['orb_log_return']\n",
    "\n",
    "start_time , end_time = main_dict[date]['Stamp']\n",
    "plt.figure()\n",
    "plt.plot( x.index[1:] , y[1:]  , 'o-' , color = 'r' , markersize=0.1 , label = 'Orb Log Diff' , alpha = 0.5 )\n",
    "plt.plot( x.index[1:] , x[1:]  , 'o-' , color = 'g' , markersize=0.1 , label = 'Spot Log Diff', alpha = 0.5 )\n",
    "plt.xlim( start_time , end_time )\n",
    "plt.tight_layout()\n",
    "plt.xticks(\n",
    "    ticks = pd.date_range(start=start_time, end=end_time, freq='1h') , \n",
    "    labels = pd.date_range( start = start_time  , end = end_time, freq = '1h' ).time\n",
    ")\n",
    "plt.grid()\n",
    "plt.legend()\n",
    "plt.title( f\" strike = 48300.0; date : {date} {pd.to_datetime( date , dayfirst=True).day_name()}\")\n",
    "plt.show()"
   ]
  },
  {
   "cell_type": "code",
   "execution_count": null,
   "metadata": {},
   "outputs": [],
   "source": [
    "result = np.corrcoef( x[1:]  , y[1:]) \n",
    "result"
   ]
  },
  {
   "cell_type": "code",
   "execution_count": null,
   "metadata": {},
   "outputs": [],
   "source": [
    "date = dates_formated[0]\n",
    "\n",
    "x = main_dict[date]['Spot']['log_return']\n",
    "y = main_dict[date]['Strike'][48300.0]['Orb2_diff']\n",
    "\n",
    "start_time , end_time = main_dict[date]['Stamp']\n",
    "plt.figure()\n",
    "plt.plot( x.index[1:] , y[1:]  , 'o-' , color = 'r' , markersize=0.1 , label = 'Orb Diff' , alpha = 0.5 )\n",
    "plt.plot( x.index[1:] , x[1:]  , 'o-' , color = 'g' , markersize=0.1 , label = 'Spot Log Diff', alpha = 0.5 )\n",
    "plt.xlim( start_time , end_time )\n",
    "plt.tight_layout()\n",
    "plt.xticks(\n",
    "    ticks = pd.date_range(start=start_time, end=end_time, freq='1h') , \n",
    "    labels = pd.date_range( start = start_time  , end = end_time, freq = '1h' ).time\n",
    ")\n",
    "plt.grid()\n",
    "plt.legend()\n",
    "plt.title( f\" strike = 48300.0; date : {date} {pd.to_datetime( date , dayfirst=True).day_name()}\")\n",
    "plt.show()\n",
    "\n",
    "\n",
    "result = np.corrcoef( x[1:]  , y[1:]) \n",
    "result"
   ]
  },
  {
   "cell_type": "code",
   "execution_count": null,
   "metadata": {},
   "outputs": [],
   "source": [
    "date = dates_formated[0]\n",
    "\n",
    "x = main_dict[date]['Spot']['log_return']\n",
    "y = main_dict[date]['Strike'][50000.0]['Orb2_diff']\n",
    "\n",
    "start_time , end_time = main_dict[date]['Stamp']\n",
    "plt.figure()\n",
    "plt.plot( x.index[1:] , y[1:]  , 'o-' , color = 'r' , markersize=0.1 , label = 'Orb Diff' , alpha = 0.5 )\n",
    "plt.plot( x.index[1:] , x[1:]  , 'o-' , color = 'g' , markersize=0.1 , label = 'Spot Log Diff', alpha = 0.5 )\n",
    "plt.xlim( start_time , end_time )\n",
    "plt.tight_layout()\n",
    "plt.xticks(\n",
    "    ticks = pd.date_range(start=start_time, end=end_time, freq='1h') , \n",
    "    labels = pd.date_range( start = start_time  , end = end_time, freq = '1h' ).time\n",
    ")\n",
    "plt.grid()\n",
    "plt.legend()\n",
    "plt.title( f\" strike = 50000.0; date : {date} {pd.to_datetime( date , dayfirst=True).day_name()}\")\n",
    "plt.show()\n",
    "\n",
    "\n",
    "result = np.corrcoef( x[1:]  , y[1:]) \n",
    "result"
   ]
  },
  {
   "cell_type": "code",
   "execution_count": null,
   "metadata": {},
   "outputs": [],
   "source": [
    "x = main_dict[date]['Spot']['log_return']\n",
    "y = main_dict[date]['Strike'][50000.0]['orb_log_return']\n",
    "\n",
    "start_time , end_time = main_dict[date]['Stamp']\n",
    "plt.figure()\n",
    "plt.plot( x.index[1:] , y[1:]  , 'o-' , color = 'r' , markersize=0.1 , label = 'Orb Log Diff' , alpha = 0.5 )\n",
    "plt.plot( x.index[1:] , x[1:]  , 'o-' , color = 'g' , markersize=0.1 , label = 'Spot Log Diff', alpha = 0.5 )\n",
    "plt.xlim( start_time , end_time )\n",
    "plt.tight_layout()\n",
    "plt.xticks(\n",
    "    ticks = pd.date_range(start=start_time, end=end_time, freq='1h') , \n",
    "    labels = pd.date_range( start = start_time  , end = end_time, freq = '1h' ).time\n",
    ")\n",
    "plt.grid()\n",
    "plt.legend()\n",
    "plt.title( f\" strike = 50000.0; date : {date} {pd.to_datetime( date , dayfirst=True).day_name()}\")\n",
    "plt.show()"
   ]
  },
  {
   "cell_type": "code",
   "execution_count": null,
   "metadata": {},
   "outputs": [],
   "source": [
    "result = np.corrcoef( x[1:]  , y[1:]) \n",
    "result"
   ]
  },
  {
   "cell_type": "code",
   "execution_count": null,
   "metadata": {},
   "outputs": [],
   "source": [
    "for strike in strikes : \n",
    "    print(f'For {date} and Strike = {strike}')\n",
    "    print(main_dict[date]['Strike'][strike].describe())\n",
    "    print('-'*50)\n",
    "\n",
    "print(main_dict[date]['Spot'].describe())"
   ]
  },
  {
   "cell_type": "code",
   "execution_count": null,
   "metadata": {},
   "outputs": [],
   "source": [
    "result = np.corrcoef( x[1:]  , y[1:]) "
   ]
  },
  {
   "cell_type": "code",
   "execution_count": null,
   "metadata": {},
   "outputs": [],
   "source": [
    "result "
   ]
  },
  {
   "cell_type": "code",
   "execution_count": null,
   "metadata": {},
   "outputs": [],
   "source": [
    "x = main_dict[date]['Spot']['Close']\n",
    "y = main_dict[date]['Strike'][48300.0]['Orb2']\n",
    "\n",
    "plt.figure( figsize = (12,6))\n",
    "plt.scatter( x , y, s = 2  )\n",
    "plt.xlabel('Spot')\n",
    "plt.ylabel('Orb2')\n",
    "plt.title('Strike = 48300.0 ')\n",
    "plt.grid()\n",
    "plt.show()"
   ]
  },
  {
   "cell_type": "code",
   "execution_count": null,
   "metadata": {},
   "outputs": [],
   "source": [
    "start_time , end_time = main_dict[date]['Stamp']\n",
    "plt.figure()\n",
    "plt.plot( x.index[1:] , y[1:]  , 'o-' , color = 'r' , markersize=0.1 , label = 'Orb' , alpha = 0.5 )\n",
    "plt.plot( x.index[1:] , x[1:]  , 'o-' , color = 'g' , markersize=0.1 , label = 'Spot', alpha = 0.5 )\n",
    "plt.xlim( start_time , end_time )\n",
    "plt.tight_layout()\n",
    "plt.xticks(\n",
    "    ticks = pd.date_range(start=start_time, end=end_time, freq='1h') , \n",
    "    labels = pd.date_range( start = start_time  , end = end_time, freq = '1h' ).time\n",
    ")\n",
    "plt.grid()\n",
    "plt.legend()\n",
    "plt.title( f\" strike = 48300.0; date : {date} {pd.to_datetime( date , dayfirst=True).day_name()}\")\n",
    "plt.show()"
   ]
  },
  {
   "cell_type": "code",
   "execution_count": null,
   "metadata": {},
   "outputs": [],
   "source": [
    "x = main_dict[date]['Spot']['Close']\n",
    "y = main_dict[date]['Strike'][50000.0]['Orb2']\n",
    "\n",
    "plt.figure( figsize = (12,6))\n",
    "plt.scatter( x , y, s = 2  )\n",
    "plt.xlabel('Spot')\n",
    "plt.ylabel('Orb2')\n",
    "plt.title('Strike = 50000.0 ')\n",
    "plt.grid()\n",
    "plt.show()"
   ]
  },
  {
   "cell_type": "code",
   "execution_count": null,
   "metadata": {},
   "outputs": [],
   "source": [
    "start_time , end_time = main_dict[date]['Stamp']\n",
    "plt.figure()\n",
    "plt.plot( x.index[1:] , y[1:]  , 'o-' , color = 'r' , markersize=0.1 , label = 'Orb' , alpha = 0.5 )\n",
    "plt.plot( x.index[1:] , x[1:]  , 'o-' , color = 'g' , markersize=0.1 , label = 'Spot', alpha = 0.5 )\n",
    "plt.xlim( start_time , end_time )\n",
    "plt.tight_layout()\n",
    "plt.xticks(\n",
    "    ticks = pd.date_range(start=start_time, end=end_time, freq='1h') , \n",
    "    labels = pd.date_range( start = start_time  , end = end_time, freq = '1h' ).time\n",
    ")\n",
    "plt.grid()\n",
    "plt.legend()\n",
    "plt.title( f\" strike = 50000.0; date : {date} {pd.to_datetime( date , dayfirst=True).day_name()}\")\n",
    "plt.show()"
   ]
  },
  {
   "cell_type": "code",
   "execution_count": null,
   "metadata": {},
   "outputs": [],
   "source": [
    "orb_dict = {}\n",
    "orb_df = pd.DataFrame()\n",
    "\n",
    "\n",
    "for date in main_dict.keys() : \n",
    "    orb_dict[date] =  pd.DataFrame() \n",
    "    spot_return_corr = []\n",
    "    for strike , df in main_dict[date]['Strike'].items() : \n",
    "        orb_dict[date][strike] = df['Orb2_diff']\n",
    "        spot_return_corr.append(main_dict[date]['Spot']['Spot Return %'].corr(df['Orb2_diff']))\n",
    "    orb_dict[date] = orb_dict[date].corr()\n",
    "    orb_dict[date]['Spot'] = spot_return_corr \n"
   ]
  },
  {
   "cell_type": "code",
   "execution_count": null,
   "metadata": {},
   "outputs": [],
   "source": [
    "import seaborn as sns"
   ]
  },
  {
   "cell_type": "code",
   "execution_count": null,
   "metadata": {},
   "outputs": [],
   "source": [
    "for date , corr in orb_dict.items() : \n",
    "\n",
    "    plt.figure(figsize=(10, 8))\n",
    "    sns.heatmap(corr, annot=False, cmap='coolwarm', fmt=\".2f\")\n",
    "    plt.title(f\"Orb2 First Diff Correlation Matrix for \\n {input['underlying']}; exp: {input['exp']}; on {date} {pd.to_datetime( date , dayfirst=True).day_name()}\")\n",
    "    plt.xlabel(\"Strike Price\")\n",
    "    plt.ylabel(\"Strike Price\")\n",
    "    plt.tight_layout()\n",
    "    plt.savefig(f\"Date-Range-Plots/Corr/Orb_diff_corr_{date}.png\")\n",
    "    plt.show()"
   ]
  },
  {
   "cell_type": "code",
   "execution_count": null,
   "metadata": {},
   "outputs": [],
   "source": [
    "date = dates_formated[0]\n",
    "row , col = np.where( (orb_dict[date] < 0 ) == True )"
   ]
  },
  {
   "cell_type": "code",
   "execution_count": null,
   "metadata": {},
   "outputs": [],
   "source": [
    "orb_dict[date].columns[row] , orb_dict[date].columns[col]"
   ]
  },
  {
   "cell_type": "code",
   "execution_count": null,
   "metadata": {},
   "outputs": [],
   "source": [
    "orb_dict[date].iloc[row[0] , col[0]]"
   ]
  },
  {
   "cell_type": "code",
   "execution_count": null,
   "metadata": {},
   "outputs": [],
   "source": [
    "orb_dict[date]"
   ]
  }
 ],
 "metadata": {
  "kernelspec": {
   "display_name": "Algoquant",
   "language": "python",
   "name": "python3"
  },
  "language_info": {
   "codemirror_mode": {
    "name": "ipython",
    "version": 3
   },
   "file_extension": ".py",
   "mimetype": "text/x-python",
   "name": "python",
   "nbconvert_exporter": "python",
   "pygments_lexer": "ipython3",
   "version": "3.10.16"
  },
  "vscode": {
   "interpreter": {
    "hash": "afcc515386c5f6c52dcc1222c04116b1214902c628c69bf0d33568b4a5ec42b2"
   }
  }
 },
 "nbformat": 4,
 "nbformat_minor": 2
}

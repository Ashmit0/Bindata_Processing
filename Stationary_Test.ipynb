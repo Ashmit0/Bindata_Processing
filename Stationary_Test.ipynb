{
 "cells": [
  {
   "cell_type": "code",
   "execution_count": null,
   "metadata": {},
   "outputs": [],
   "source": [
    "import os \n",
    "import yaml \n",
    "import pickle\n",
    "import numpy as np \n",
    "import pandas as pd \n",
    "import matplotlib.pyplot as plt \n",
    "\n",
    "\n",
    "plt.rcParams['font.size'] = 14 \n",
    "plt.rcParams['figure.figsize'] = (15,5)\n",
    "plt.rcParams['lines.linewidth'] = .5"
   ]
  },
  {
   "cell_type": "code",
   "execution_count": null,
   "metadata": {},
   "outputs": [],
   "source": [
    "from bindata_processing.base import bindata_query \n",
    "from bindata_processing import plots "
   ]
  },
  {
   "cell_type": "code",
   "execution_count": null,
   "metadata": {},
   "outputs": [],
   "source": [
    "with open('user_input.yaml', 'r') as f:\n",
    "    inputs = yaml.safe_load(f)\n",
    "\n",
    "query = bindata_query( inputs )\n",
    "query.load_dict()"
   ]
  },
  {
   "cell_type": "code",
   "execution_count": null,
   "metadata": {},
   "outputs": [],
   "source": [
    "plots.print_dict_hierarchy(query.main_dict )"
   ]
  },
  {
   "cell_type": "code",
   "execution_count": null,
   "metadata": {},
   "outputs": [],
   "source": [
    "plots.plot_all_orb2( query , 'Orb2_diff' )"
   ]
  },
  {
   "cell_type": "code",
   "execution_count": null,
   "metadata": {},
   "outputs": [],
   "source": [
    "date = query.dates_formated[0]\n",
    "st1_df = query.main_dict[date]['Strike'][48300.0]\n",
    "st2_df = query.main_dict[date]['Strike'][50000.0]\n",
    "date "
   ]
  },
  {
   "cell_type": "code",
   "execution_count": null,
   "metadata": {},
   "outputs": [],
   "source": [
    "plots.plot_time_series( st1_df , 'Orb2_diff' , 48300.0 , query.main_dict[date]['Stamp'] , date , query.inputs  ) \n",
    "plots.plot_time_series( st2_df , 'Orb2_diff' , 50000.0 , query.main_dict[date]['Stamp'] , date , query.inputs ) "
   ]
  },
  {
   "cell_type": "code",
   "execution_count": null,
   "metadata": {},
   "outputs": [],
   "source": [
    "strikes_df = { 48300.0 : st1_df , 50000.0 : st2_df }"
   ]
  },
  {
   "cell_type": "markdown",
   "metadata": {},
   "source": [
    "### KPSS "
   ]
  },
  {
   "cell_type": "code",
   "execution_count": null,
   "metadata": {},
   "outputs": [],
   "source": [
    "from statsmodels.tsa.stattools import kpss\n",
    "\n",
    "for strike , df in strikes_df.items() : \n",
    "    temp = {}\n",
    "\n",
    "    stat1, p_value1, lags1, crit1 = kpss(df['Orb2_diff'][1:], regression='c') \n",
    "\n",
    "    temp['stat1'] = stat1 \n",
    "    temp['p_value1']  = p_value1 \n",
    "    temp['crit1'] = crit1\n",
    "\n",
    "    \n",
    "\n",
    "    print(f'KPSS Results of Rejection: strike = {strike}')\n",
    "    for k , v in temp.items() : \n",
    "        print( f'{k}: {v}' )\n",
    "    print({ k : stat1 > v for k, v in temp['crit1'].items() } )\n",
    "    print('-'*20)"
   ]
  },
  {
   "cell_type": "code",
   "execution_count": null,
   "metadata": {},
   "outputs": [],
   "source": [
    "from statsmodels.tsa.stattools import adfuller\n",
    "\n",
    "for strike , df in strikes_df.items() : \n",
    "    temp = {}\n",
    "\n",
    "    stat1, p_value1, lags1, _ ,  crit1  , _ = adfuller(df['Orb2_diff'][1:]  ) \n",
    "\n",
    "    temp['stat1'] = stat1 \n",
    "    temp['p_value1']  = p_value1 \n",
    "    temp['crit1'] = crit1\n",
    "\n",
    "\n",
    "\n",
    "    print(f'ADF Results of Rejection: strike: {strike}' )\n",
    "    for k , v in temp.items() : \n",
    "        print( f'{k}: {v}' )\n",
    "    print( f'p-value < 0.05: {p_value1 < 0.05 }' )\n",
    "    print( { k : stat1 < v for k, v in temp['crit1'].items() } )\n",
    "    print('-'*20)"
   ]
  },
  {
   "cell_type": "code",
   "execution_count": null,
   "metadata": {},
   "outputs": [],
   "source": [
    "from statsmodels.tsa.arima.model import ARIMA\n",
    "\n",
    "\n",
    "def grid_search_ARIMA( data , max_p = 3  , max_q = 3 , method = 'AIC') : \n",
    "\n",
    "    best = np.inf\n",
    "    best_order = None\n",
    "\n",
    "    for p in range(1,max_p + 1):\n",
    "        for q in range(1,max_q + 1):\n",
    "\n",
    "            try:\n",
    "                model = ARIMA(data, order=(p, 0, q))  # d=0 means no differencing here\n",
    "                result = model.fit()\n",
    "                if method == 'AIC' : \n",
    "                    if result.aic < best:\n",
    "                        best = result.aic\n",
    "                        best_order = (p, q)\n",
    "                if method == 'BIC' : \n",
    "                    if result.bic < best:\n",
    "                        best = result.bic\n",
    "                        best_order = (p, q)\n",
    "            except Exception as e:\n",
    "                # Sometimes model won't converge or fail; skip those\n",
    "                continue\n",
    "\n",
    "    return best_order , best "
   ]
  },
  {
   "cell_type": "code",
   "execution_count": null,
   "metadata": {},
   "outputs": [],
   "source": [
    "for strike , df in strikes_df.items() : \n",
    "    aic_order , aic_val = grid_search_ARIMA(df['Orb2_diff'][1:])\n",
    "    bic_order , bic_val = grid_search_ARIMA(df['Orb2_diff'][1:] , method = 'BIC' )\n",
    "\n",
    "    temp = {\n",
    "        'aic_order' : aic_order , 'aic_val' : aic_val , \n",
    "        'bic_order' : bic_order , 'bic_val' : bic_val \n",
    "    }\n",
    "\n",
    "    print(f'Strike = {strike}')\n",
    "    for k , v in temp.items() : \n",
    "        print( k , v )\n",
    "    print('-'*20)"
   ]
  },
  {
   "cell_type": "code",
   "execution_count": null,
   "metadata": {},
   "outputs": [],
   "source": [
    "from hurst import compute_Hc \n",
    "\n",
    "for strike , df in strikes_df.items() : \n",
    "    H , *_  =  compute_Hc(df['Orb2_diff'][1:])\n",
    "    print(f'Hurst Exponent for {strike} = {H}')"
   ]
  },
  {
   "cell_type": "markdown",
   "metadata": {},
   "source": [
    "### FOR Strike = 50000.0"
   ]
  },
  {
   "cell_type": "code",
   "execution_count": null,
   "metadata": {},
   "outputs": [],
   "source": [
    "model = ARIMA( st2_df['Orb2_diff'] , order = ( 2 , 0 , 2 ) )\n",
    "fit2 = model.fit()\n",
    "print( fit2.summary() )\n",
    "\n",
    "fit2.plot_diagnostics(figsize=(10,8))\n",
    "plt.show()"
   ]
  },
  {
   "cell_type": "code",
   "execution_count": null,
   "metadata": {},
   "outputs": [],
   "source": [
    "model = ARIMA( st2_df['Orb2_diff'] , order = ( 2 , 1 , 2 ) )\n",
    "fit2 = model.fit()\n",
    "print( fit2.summary() )\n",
    "\n",
    "fit2.plot_diagnostics(figsize=(10,8))\n",
    "plt.show()"
   ]
  },
  {
   "cell_type": "markdown",
   "metadata": {},
   "source": [
    "### FOR Strike = 48300.0 "
   ]
  },
  {
   "cell_type": "code",
   "execution_count": null,
   "metadata": {},
   "outputs": [],
   "source": [
    "model = ARIMA( st1_df['Orb2_diff'] , order = ( 2 , 0 , 3 ) )\n",
    "fit1 = model.fit()\n",
    "print( fit1.summary() )\n",
    "\n",
    "fit1.plot_diagnostics(figsize=(10,8))\n",
    "plt.show()"
   ]
  },
  {
   "cell_type": "code",
   "execution_count": null,
   "metadata": {},
   "outputs": [],
   "source": [
    "model = ARIMA( st1_df['Orb2_diff'] , order = ( 2 , 1 , 3 ) )\n",
    "fit1 = model.fit()\n",
    "print( fit1.summary() )\n",
    "\n",
    "fit1.plot_diagnostics(figsize=(10,8))\n",
    "plt.show()"
   ]
  },
  {
   "cell_type": "code",
   "execution_count": null,
   "metadata": {},
   "outputs": [],
   "source": [
    "model = ARIMA( st1_df['Orb2_diff'] , order = ( 1 , 0 , 3 ) )\n",
    "fit1 = model.fit()\n",
    "print( fit1.summary() )\n",
    "\n",
    "fit1.plot_diagnostics(figsize=(10,8))\n",
    "plt.show()"
   ]
  }
 ],
 "metadata": {
  "kernelspec": {
   "display_name": "Algoquant",
   "language": "python",
   "name": "python3"
  },
  "language_info": {
   "codemirror_mode": {
    "name": "ipython",
    "version": 3
   },
   "file_extension": ".py",
   "mimetype": "text/x-python",
   "name": "python",
   "nbconvert_exporter": "python",
   "pygments_lexer": "ipython3",
   "version": "3.10.16"
  },
  "vscode": {
   "interpreter": {
    "hash": "afcc515386c5f6c52dcc1222c04116b1214902c628c69bf0d33568b4a5ec42b2"
   }
  }
 },
 "nbformat": 4,
 "nbformat_minor": 2
}
